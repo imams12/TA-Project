{
  "cells": [
    {
      "cell_type": "code",
      "source": [
        "import math\n",
        "\n",
        "# Define the documents\n",
        "doc1 = \"thank admin final certif claim\"\n",
        "doc2 = \"alway forc close open vaccin certif\"\n",
        "doc3 = \"work fine updat good\"\n",
        "doc4 = \"app crash tri open certif\"\n",
        "\n",
        "# Create a list of all documents\n",
        "docs = [doc1, doc2, doc3, doc4]"
      ],
      "metadata": {
        "id": "Syy_PSXYDel3"
      },
      "execution_count": null,
      "outputs": []
    },
    {
      "cell_type": "code",
      "source": [
        "# Split each document into a list of words\n",
        "doc_words = []\n",
        "for doc in docs:\n",
        "    words = doc.lower().split()\n",
        "    doc_words.append(words)"
      ],
      "metadata": {
        "id": "sMmOTsh_Dipn"
      },
      "execution_count": null,
      "outputs": []
    },
    {
      "cell_type": "code",
      "source": [
        "# Get a list of all unique words in the documents\n",
        "all_words = set()\n",
        "for words in doc_words:\n",
        "    all_words.update(words)"
      ],
      "metadata": {
        "id": "PZqYvvXpDmsN"
      },
      "execution_count": null,
      "outputs": []
    },
    {
      "cell_type": "code",
      "source": [
        "# Calculate term frequency (TF) for each word in each document\n",
        "word_freq = []\n",
        "for words in doc_words:\n",
        "    freq = {}\n",
        "    for word in words:\n",
        "        if word in freq:\n",
        "            freq[word] += 1\n",
        "        else:\n",
        "            freq[word] = 1\n",
        "    word_freq.append(freq)"
      ],
      "metadata": {
        "id": "p9PudXDyDmnK"
      },
      "execution_count": null,
      "outputs": []
    },
    {
      "cell_type": "code",
      "source": [
        "# Calculate inverse document frequency (IDF) for each word\n",
        "word_idf = {}\n",
        "for word in all_words:\n",
        "    count = 0\n",
        "    for freq in word_freq:\n",
        "        if word in freq:\n",
        "            count += 1\n",
        "    idf = math.log(len(docs) / count)\n",
        "    word_idf[word] = idf"
      ],
      "metadata": {
        "id": "4VMR3qteDmcT"
      },
      "execution_count": null,
      "outputs": []
    },
    {
      "cell_type": "code",
      "source": [
        "# Calculate TF-IDF for each word in each document\n",
        "tf_idf = []\n",
        "for i in range(len(docs)):\n",
        "    scores = {}\n",
        "    for word in word_freq[i]:\n",
        "        tf = word_freq[i][word] / len(doc_words[i])\n",
        "        idf = word_idf[word]\n",
        "        scores[word] = tf * idf\n",
        "    tf_idf.append(scores)"
      ],
      "metadata": {
        "id": "5FDiYInhEebM"
      },
      "execution_count": null,
      "outputs": []
    },
    {
      "cell_type": "code",
      "source": [
        "# Print the results\n",
        "for i in range(len(docs)):\n",
        "    print(f\"TF-IDF for document {i+1}:\")\n",
        "    for word in tf_idf[i]:\n",
        "        print(f\"{word}: {tf_idf[i][word]}\")\n",
        "    print()"
      ],
      "metadata": {
        "id": "6Je-0TVNF9PZ",
        "outputId": "b30aa03e-9bfb-434f-e1af-cbfa48e811ee",
        "colab": {
          "base_uri": "https://localhost:8080/"
        }
      },
      "execution_count": null,
      "outputs": [
        {
          "output_type": "stream",
          "name": "stdout",
          "text": [
            "TF-IDF for document 1:\n",
            "thank: 0.2772588722239781\n",
            "admin: 0.2772588722239781\n",
            "final: 0.2772588722239781\n",
            "certif: 0.05753641449035617\n",
            "claim: 0.2772588722239781\n",
            "\n",
            "TF-IDF for document 2:\n",
            "alway: 0.23104906018664842\n",
            "forc: 0.23104906018664842\n",
            "close: 0.23104906018664842\n",
            "open: 0.11552453009332421\n",
            "vaccin: 0.23104906018664842\n",
            "certif: 0.04794701207529681\n",
            "\n",
            "TF-IDF for document 3:\n",
            "work: 0.34657359027997264\n",
            "fine: 0.34657359027997264\n",
            "updat: 0.34657359027997264\n",
            "good: 0.34657359027997264\n",
            "\n",
            "TF-IDF for document 4:\n",
            "app: 0.2772588722239781\n",
            "crash: 0.2772588722239781\n",
            "tri: 0.2772588722239781\n",
            "open: 0.13862943611198905\n",
            "certif: 0.05753641449035617\n",
            "\n"
          ]
        }
      ]
    },
    {
      "cell_type": "code",
      "source": [
        "l=0\n",
        "for word in word_freq[l]:\n",
        "        tf = word_freq[l][word] / len(doc_words[l])\n",
        "        print(word,\":\",tf)"
      ],
      "metadata": {
        "id": "D2pmkrBsGtFo",
        "outputId": "37980fac-1e26-44f4-d710-c58b9d15d52d",
        "colab": {
          "base_uri": "https://localhost:8080/"
        }
      },
      "execution_count": null,
      "outputs": [
        {
          "output_type": "stream",
          "name": "stdout",
          "text": [
            "thank : 0.2\n",
            "admin : 0.2\n",
            "final : 0.2\n",
            "certif : 0.2\n",
            "claim : 0.2\n"
          ]
        }
      ]
    },
    {
      "cell_type": "code",
      "source": [
        "l=1\n",
        "for word in word_freq[l]:\n",
        "        tf = word_freq[l][word] / len(doc_words[l])\n",
        "        print(word,\":\",tf)"
      ],
      "metadata": {
        "id": "g4-x73guGz6B",
        "outputId": "0a2076fe-49c2-43d0-b462-7543e814862f",
        "colab": {
          "base_uri": "https://localhost:8080/"
        }
      },
      "execution_count": null,
      "outputs": [
        {
          "output_type": "stream",
          "name": "stdout",
          "text": [
            "alway : 0.16666666666666666\n",
            "forc : 0.16666666666666666\n",
            "close : 0.16666666666666666\n",
            "open : 0.16666666666666666\n",
            "vaccin : 0.16666666666666666\n",
            "certif : 0.16666666666666666\n"
          ]
        }
      ]
    },
    {
      "cell_type": "code",
      "source": [
        "l=2\n",
        "for word in word_freq[l]:\n",
        "        tf = word_freq[l][word] / len(doc_words[l])\n",
        "        print(word,\":\",tf)"
      ],
      "metadata": {
        "id": "UDHlA4RgG2Yk",
        "outputId": "f4737e96-a6ba-49b6-a455-f9c7091216be",
        "colab": {
          "base_uri": "https://localhost:8080/"
        }
      },
      "execution_count": null,
      "outputs": [
        {
          "output_type": "stream",
          "name": "stdout",
          "text": [
            "work : 0.25\n",
            "fine : 0.25\n",
            "updat : 0.25\n",
            "good : 0.25\n"
          ]
        }
      ]
    },
    {
      "cell_type": "code",
      "source": [
        "l=3\n",
        "for word in word_freq[l]:\n",
        "        tf = word_freq[l][word] / len(doc_words[l])\n",
        "        print(word,\":\",tf)"
      ],
      "metadata": {
        "id": "Njt6zYg4G5XB",
        "outputId": "67a043a4-45d8-4357-d46c-751c7fb6a77f",
        "colab": {
          "base_uri": "https://localhost:8080/"
        }
      },
      "execution_count": null,
      "outputs": [
        {
          "output_type": "stream",
          "name": "stdout",
          "text": [
            "app : 0.2\n",
            "crash : 0.2\n",
            "tri : 0.2\n",
            "open : 0.2\n",
            "certif : 0.2\n"
          ]
        }
      ]
    },
    {
      "cell_type": "code",
      "source": [
        "for i in doc_words[0]:\n",
        "  print(i ,':',word_idf[i])"
      ],
      "metadata": {
        "id": "wqjp6U2tHF3r",
        "outputId": "3be51dd6-5307-41df-f6ca-2b57a10bc595",
        "colab": {
          "base_uri": "https://localhost:8080/"
        }
      },
      "execution_count": null,
      "outputs": [
        {
          "output_type": "stream",
          "name": "stdout",
          "text": [
            "thank : 1.3862943611198906\n",
            "admin : 1.3862943611198906\n",
            "final : 1.3862943611198906\n",
            "certif : 0.28768207245178085\n",
            "claim : 1.3862943611198906\n"
          ]
        }
      ]
    },
    {
      "cell_type": "code",
      "source": [
        "for i in doc_words[1]:\n",
        "  print(i ,':',word_idf[i])"
      ],
      "metadata": {
        "id": "ya96ndYGHImD",
        "outputId": "1e8939f5-3f9d-41c7-e06b-5c3fef6ff25f",
        "colab": {
          "base_uri": "https://localhost:8080/"
        }
      },
      "execution_count": null,
      "outputs": [
        {
          "output_type": "stream",
          "name": "stdout",
          "text": [
            "alway : 1.3862943611198906\n",
            "forc : 1.3862943611198906\n",
            "close : 1.3862943611198906\n",
            "open : 0.6931471805599453\n",
            "vaccin : 1.3862943611198906\n",
            "certif : 0.28768207245178085\n"
          ]
        }
      ]
    },
    {
      "cell_type": "code",
      "source": [
        "for i in doc_words[2]:\n",
        "  print(i ,':',word_idf[i])"
      ],
      "metadata": {
        "id": "cow-FhdFHLBW",
        "outputId": "a56087ee-6538-4132-ba35-d37555fbba2a",
        "colab": {
          "base_uri": "https://localhost:8080/"
        }
      },
      "execution_count": null,
      "outputs": [
        {
          "output_type": "stream",
          "name": "stdout",
          "text": [
            "work : 1.3862943611198906\n",
            "fine : 1.3862943611198906\n",
            "updat : 1.3862943611198906\n",
            "good : 1.3862943611198906\n"
          ]
        }
      ]
    },
    {
      "cell_type": "code",
      "source": [
        "for i in doc_words[3]:\n",
        "  print(i ,':',word_idf[i])"
      ],
      "metadata": {
        "id": "hC8xfpmtHMyy",
        "outputId": "a21f5961-aa93-4f60-f47f-e20139e5781f",
        "colab": {
          "base_uri": "https://localhost:8080/"
        }
      },
      "execution_count": null,
      "outputs": [
        {
          "output_type": "stream",
          "name": "stdout",
          "text": [
            "app : 1.3862943611198906\n",
            "crash : 1.3862943611198906\n",
            "tri : 1.3862943611198906\n",
            "open : 0.6931471805599453\n",
            "certif : 0.28768207245178085\n"
          ]
        }
      ]
    }
  ],
  "metadata": {
    "colab": {
      "provenance": []
    },
    "kernelspec": {
      "display_name": "Python 3",
      "name": "python3"
    }
  },
  "nbformat": 4,
  "nbformat_minor": 0
}