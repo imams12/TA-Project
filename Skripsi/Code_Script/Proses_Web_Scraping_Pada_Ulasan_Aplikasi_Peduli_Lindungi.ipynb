{
  "nbformat": 4,
  "nbformat_minor": 0,
  "metadata": {
    "colab": {
      "provenance": []
    },
    "kernelspec": {
      "name": "python3",
      "display_name": "Python 3"
    },
    "language_info": {
      "name": "python"
    }
  },
  "cells": [
    {
      "cell_type": "markdown",
      "source": [
        "# Proses *Web Scraping* Pada Ulasan Aplikasi Peduli Lindungi"
      ],
      "metadata": {
        "id": "orAflambiuym"
      }
    },
    {
      "cell_type": "markdown",
      "source": [
        "### Menginstall *package scraping*"
      ],
      "metadata": {
        "id": "sg2Dnk5Mi6qo"
      }
    },
    {
      "cell_type": "code",
      "execution_count": null,
      "metadata": {
        "colab": {
          "base_uri": "https://localhost:8080/"
        },
        "id": "fH_zyX_h26jJ",
        "outputId": "08f8a733-06b7-4fd7-b2d0-ab14c900ff37"
      },
      "outputs": [
        {
          "output_type": "stream",
          "name": "stdout",
          "text": [
            "Looking in indexes: https://pypi.org/simple, https://us-python.pkg.dev/colab-wheels/public/simple/\n",
            "Collecting google-play-scraper\n",
            "  Downloading google_play_scraper-1.2.3-py3-none-any.whl (28 kB)\n",
            "Installing collected packages: google-play-scraper\n",
            "Successfully installed google-play-scraper-1.2.3\n"
          ]
        }
      ],
      "source": [
        "!pip install google-play-scraper"
      ]
    },
    {
      "cell_type": "markdown",
      "source": [
        "### Mengimpor *library* yang dibutuhkan"
      ],
      "metadata": {
        "id": "b2RIRwTgjRSZ"
      }
    },
    {
      "cell_type": "code",
      "source": [
        "from google_play_scraper import app, Sort, reviews_all\n",
        "import pandas as pd \n",
        "import numpy as np"
      ],
      "metadata": {
        "id": "TKydvhml3Tmv"
      },
      "execution_count": null,
      "outputs": []
    },
    {
      "cell_type": "markdown",
      "source": [
        "### *Scraping* ulasan pada aplikasi Peduli Lindungi"
      ],
      "metadata": {
        "id": "nx9Ap3WEkC4h"
      }
    },
    {
      "cell_type": "code",
      "source": [
        "us_reviews = reviews_all(\n",
        "    \"com.telkom.tracencare\",\n",
        "    sleep_milliseconds = 0, # defaults to 0\n",
        "    lang = 'en', # defaults to \"en\"\n",
        "    country = 'id', # defaults to \"us\"\n",
        "    sort = Sort.MOST_RELEVANT # defaults to Sort.MOST_RELEVANTS\n",
        ")"
      ],
      "metadata": {
        "id": "eWnSZqbU3Tj-"
      },
      "execution_count": null,
      "outputs": []
    },
    {
      "cell_type": "markdown",
      "source": [
        "### Menampilkan data dalam bentuk tabel"
      ],
      "metadata": {
        "id": "uObJPBkIky_K"
      }
    },
    {
      "cell_type": "code",
      "source": [
        "df_review = pd.DataFrame(np.array(us_reviews),columns=['review'])\n",
        "df_review = df_review.join(pd.DataFrame(df_review.pop('review').tolist()))\n",
        "df_review.head()"
      ],
      "metadata": {
        "colab": {
          "base_uri": "https://localhost:8080/",
          "height": 721
        },
        "id": "aHmZZHOK3Td6",
        "outputId": "2742dae1-09d2-451a-c01e-656a3ae31120"
      },
      "execution_count": null,
      "outputs": [
        {
          "output_type": "execute_result",
          "data": {
            "text/plain": [
              "                               reviewId       userName  \\\n",
              "0  f8817df9-e3d1-428a-95fb-3e6e1bdaca04    Wine Amanda   \n",
              "1  9ce3a2c9-714a-4bf4-b943-5c9a7fe99d4a  A Google user   \n",
              "2  b138f46d-b6a3-459d-8a71-c28bfb43a2a9     Joel David   \n",
              "3  d6067d62-0379-4ed9-a081-944223ea3868          D. T.   \n",
              "4  5ca0e0b4-0e01-4b7a-8499-dd49969189b8  Haraz Anadiya   \n",
              "\n",
              "                                           userImage  \\\n",
              "0  https://play-lh.googleusercontent.com/a-/ACNPE...   \n",
              "1  https://play-lh.googleusercontent.com/EGemoI2N...   \n",
              "2  https://play-lh.googleusercontent.com/a-/ACNPE...   \n",
              "3  https://play-lh.googleusercontent.com/a-/ACNPE...   \n",
              "4  https://play-lh.googleusercontent.com/a-/ACNPE...   \n",
              "\n",
              "                                             content  score  thumbsUpCount  \\\n",
              "0  Its mandatory to use this app to scan the QR c...      4            366   \n",
              "1  The app stopped working multiple times and I c...      3            440   \n",
              "2  On my first review, I wrote that I can't sync....      2            159   \n",
              "3  We are supposed to use it the app when to go t...      1             94   \n",
              "4  Latest update makes the app unable to open. An...      1            206   \n",
              "\n",
              "  reviewCreatedVersion                  at  \\\n",
              "0                4.4.6 2022-06-16 03:08:12   \n",
              "1                2.0.0 2020-04-21 12:37:10   \n",
              "2                3.4.0 2021-08-03 22:48:25   \n",
              "3                3.4.6 2021-10-19 16:45:33   \n",
              "4                3.4.5 2021-09-09 16:23:46   \n",
              "\n",
              "                                        replyContent           repliedAt  \n",
              "0  Halo Kak,\\n\\nKami mohon maaf atas ketidaknyama... 2022-06-16 13:17:12  \n",
              "1                                               None                 NaT  \n",
              "2  \"Halo,\\n\\nKami mohon maaf atas ketidaknyamanan... 2021-09-05 06:14:40  \n",
              "3  Halo D. T.,\\n\\nMohon maaf atas ketidaknyamanan... 2021-10-22 04:01:20  \n",
              "4  Hello Haraz,\\n\\nWe apologize for your inconven... 2021-09-17 07:55:15  "
            ],
            "text/html": [
              "\n",
              "  <div id=\"df-1506a2a2-68f1-4102-9f59-8c8d2defd0e1\">\n",
              "    <div class=\"colab-df-container\">\n",
              "      <div>\n",
              "<style scoped>\n",
              "    .dataframe tbody tr th:only-of-type {\n",
              "        vertical-align: middle;\n",
              "    }\n",
              "\n",
              "    .dataframe tbody tr th {\n",
              "        vertical-align: top;\n",
              "    }\n",
              "\n",
              "    .dataframe thead th {\n",
              "        text-align: right;\n",
              "    }\n",
              "</style>\n",
              "<table border=\"1\" class=\"dataframe\">\n",
              "  <thead>\n",
              "    <tr style=\"text-align: right;\">\n",
              "      <th></th>\n",
              "      <th>reviewId</th>\n",
              "      <th>userName</th>\n",
              "      <th>userImage</th>\n",
              "      <th>content</th>\n",
              "      <th>score</th>\n",
              "      <th>thumbsUpCount</th>\n",
              "      <th>reviewCreatedVersion</th>\n",
              "      <th>at</th>\n",
              "      <th>replyContent</th>\n",
              "      <th>repliedAt</th>\n",
              "    </tr>\n",
              "  </thead>\n",
              "  <tbody>\n",
              "    <tr>\n",
              "      <th>0</th>\n",
              "      <td>f8817df9-e3d1-428a-95fb-3e6e1bdaca04</td>\n",
              "      <td>Wine Amanda</td>\n",
              "      <td>https://play-lh.googleusercontent.com/a-/ACNPE...</td>\n",
              "      <td>Its mandatory to use this app to scan the QR c...</td>\n",
              "      <td>4</td>\n",
              "      <td>366</td>\n",
              "      <td>4.4.6</td>\n",
              "      <td>2022-06-16 03:08:12</td>\n",
              "      <td>Halo Kak,\\n\\nKami mohon maaf atas ketidaknyama...</td>\n",
              "      <td>2022-06-16 13:17:12</td>\n",
              "    </tr>\n",
              "    <tr>\n",
              "      <th>1</th>\n",
              "      <td>9ce3a2c9-714a-4bf4-b943-5c9a7fe99d4a</td>\n",
              "      <td>A Google user</td>\n",
              "      <td>https://play-lh.googleusercontent.com/EGemoI2N...</td>\n",
              "      <td>The app stopped working multiple times and I c...</td>\n",
              "      <td>3</td>\n",
              "      <td>440</td>\n",
              "      <td>2.0.0</td>\n",
              "      <td>2020-04-21 12:37:10</td>\n",
              "      <td>None</td>\n",
              "      <td>NaT</td>\n",
              "    </tr>\n",
              "    <tr>\n",
              "      <th>2</th>\n",
              "      <td>b138f46d-b6a3-459d-8a71-c28bfb43a2a9</td>\n",
              "      <td>Joel David</td>\n",
              "      <td>https://play-lh.googleusercontent.com/a-/ACNPE...</td>\n",
              "      <td>On my first review, I wrote that I can't sync....</td>\n",
              "      <td>2</td>\n",
              "      <td>159</td>\n",
              "      <td>3.4.0</td>\n",
              "      <td>2021-08-03 22:48:25</td>\n",
              "      <td>\"Halo,\\n\\nKami mohon maaf atas ketidaknyamanan...</td>\n",
              "      <td>2021-09-05 06:14:40</td>\n",
              "    </tr>\n",
              "    <tr>\n",
              "      <th>3</th>\n",
              "      <td>d6067d62-0379-4ed9-a081-944223ea3868</td>\n",
              "      <td>D. T.</td>\n",
              "      <td>https://play-lh.googleusercontent.com/a-/ACNPE...</td>\n",
              "      <td>We are supposed to use it the app when to go t...</td>\n",
              "      <td>1</td>\n",
              "      <td>94</td>\n",
              "      <td>3.4.6</td>\n",
              "      <td>2021-10-19 16:45:33</td>\n",
              "      <td>Halo D. T.,\\n\\nMohon maaf atas ketidaknyamanan...</td>\n",
              "      <td>2021-10-22 04:01:20</td>\n",
              "    </tr>\n",
              "    <tr>\n",
              "      <th>4</th>\n",
              "      <td>5ca0e0b4-0e01-4b7a-8499-dd49969189b8</td>\n",
              "      <td>Haraz Anadiya</td>\n",
              "      <td>https://play-lh.googleusercontent.com/a-/ACNPE...</td>\n",
              "      <td>Latest update makes the app unable to open. An...</td>\n",
              "      <td>1</td>\n",
              "      <td>206</td>\n",
              "      <td>3.4.5</td>\n",
              "      <td>2021-09-09 16:23:46</td>\n",
              "      <td>Hello Haraz,\\n\\nWe apologize for your inconven...</td>\n",
              "      <td>2021-09-17 07:55:15</td>\n",
              "    </tr>\n",
              "  </tbody>\n",
              "</table>\n",
              "</div>\n",
              "      <button class=\"colab-df-convert\" onclick=\"convertToInteractive('df-1506a2a2-68f1-4102-9f59-8c8d2defd0e1')\"\n",
              "              title=\"Convert this dataframe to an interactive table.\"\n",
              "              style=\"display:none;\">\n",
              "        \n",
              "  <svg xmlns=\"http://www.w3.org/2000/svg\" height=\"24px\"viewBox=\"0 0 24 24\"\n",
              "       width=\"24px\">\n",
              "    <path d=\"M0 0h24v24H0V0z\" fill=\"none\"/>\n",
              "    <path d=\"M18.56 5.44l.94 2.06.94-2.06 2.06-.94-2.06-.94-.94-2.06-.94 2.06-2.06.94zm-11 1L8.5 8.5l.94-2.06 2.06-.94-2.06-.94L8.5 2.5l-.94 2.06-2.06.94zm10 10l.94 2.06.94-2.06 2.06-.94-2.06-.94-.94-2.06-.94 2.06-2.06.94z\"/><path d=\"M17.41 7.96l-1.37-1.37c-.4-.4-.92-.59-1.43-.59-.52 0-1.04.2-1.43.59L10.3 9.45l-7.72 7.72c-.78.78-.78 2.05 0 2.83L4 21.41c.39.39.9.59 1.41.59.51 0 1.02-.2 1.41-.59l7.78-7.78 2.81-2.81c.8-.78.8-2.07 0-2.86zM5.41 20L4 18.59l7.72-7.72 1.47 1.35L5.41 20z\"/>\n",
              "  </svg>\n",
              "      </button>\n",
              "      \n",
              "  <style>\n",
              "    .colab-df-container {\n",
              "      display:flex;\n",
              "      flex-wrap:wrap;\n",
              "      gap: 12px;\n",
              "    }\n",
              "\n",
              "    .colab-df-convert {\n",
              "      background-color: #E8F0FE;\n",
              "      border: none;\n",
              "      border-radius: 50%;\n",
              "      cursor: pointer;\n",
              "      display: none;\n",
              "      fill: #1967D2;\n",
              "      height: 32px;\n",
              "      padding: 0 0 0 0;\n",
              "      width: 32px;\n",
              "    }\n",
              "\n",
              "    .colab-df-convert:hover {\n",
              "      background-color: #E2EBFA;\n",
              "      box-shadow: 0px 1px 2px rgba(60, 64, 67, 0.3), 0px 1px 3px 1px rgba(60, 64, 67, 0.15);\n",
              "      fill: #174EA6;\n",
              "    }\n",
              "\n",
              "    [theme=dark] .colab-df-convert {\n",
              "      background-color: #3B4455;\n",
              "      fill: #D2E3FC;\n",
              "    }\n",
              "\n",
              "    [theme=dark] .colab-df-convert:hover {\n",
              "      background-color: #434B5C;\n",
              "      box-shadow: 0px 1px 3px 1px rgba(0, 0, 0, 0.15);\n",
              "      filter: drop-shadow(0px 1px 2px rgba(0, 0, 0, 0.3));\n",
              "      fill: #FFFFFF;\n",
              "    }\n",
              "  </style>\n",
              "\n",
              "      <script>\n",
              "        const buttonEl =\n",
              "          document.querySelector('#df-1506a2a2-68f1-4102-9f59-8c8d2defd0e1 button.colab-df-convert');\n",
              "        buttonEl.style.display =\n",
              "          google.colab.kernel.accessAllowed ? 'block' : 'none';\n",
              "\n",
              "        async function convertToInteractive(key) {\n",
              "          const element = document.querySelector('#df-1506a2a2-68f1-4102-9f59-8c8d2defd0e1');\n",
              "          const dataTable =\n",
              "            await google.colab.kernel.invokeFunction('convertToInteractive',\n",
              "                                                     [key], {});\n",
              "          if (!dataTable) return;\n",
              "\n",
              "          const docLinkHtml = 'Like what you see? Visit the ' +\n",
              "            '<a target=\"_blank\" href=https://colab.research.google.com/notebooks/data_table.ipynb>data table notebook</a>'\n",
              "            + ' to learn more about interactive tables.';\n",
              "          element.innerHTML = '';\n",
              "          dataTable['output_type'] = 'display_data';\n",
              "          await google.colab.output.renderOutput(dataTable, element);\n",
              "          const docLink = document.createElement('div');\n",
              "          docLink.innerHTML = docLinkHtml;\n",
              "          element.appendChild(docLink);\n",
              "        }\n",
              "      </script>\n",
              "    </div>\n",
              "  </div>\n",
              "  "
            ]
          },
          "metadata": {},
          "execution_count": 4
        }
      ]
    },
    {
      "cell_type": "markdown",
      "source": [
        "### Menampilkan jumlah baris dan kolom"
      ],
      "metadata": {
        "id": "7u4nM5QTmQVQ"
      }
    },
    {
      "cell_type": "code",
      "source": [
        "df_review.shape"
      ],
      "metadata": {
        "colab": {
          "base_uri": "https://localhost:8080/"
        },
        "id": "oKcpLck_mxl9",
        "outputId": "84ad9888-6048-4a07-c82b-56a9fbf21381"
      },
      "execution_count": null,
      "outputs": [
        {
          "output_type": "execute_result",
          "data": {
            "text/plain": [
              "(51863, 10)"
            ]
          },
          "metadata": {},
          "execution_count": 5
        }
      ]
    },
    {
      "cell_type": "markdown",
      "source": [
        "### Menampilkan beberapa kolom yang dibutuhkan"
      ],
      "metadata": {
        "id": "rdD4j1bHmmzn"
      }
    },
    {
      "cell_type": "code",
      "source": [
        "my_df = df_review[['userName', 'score', 'at', 'content']]\n",
        "my_df.columns = [\"Nama reviewer\", \"Rating\", \"Tanggal ulasan\", \"Ulasan\"]\n",
        "my_df.head()"
      ],
      "metadata": {
        "colab": {
          "base_uri": "https://localhost:8080/",
          "height": 206
        },
        "id": "EZgIuTHi3TCs",
        "outputId": "f9230a5b-7b92-47e9-caaf-d4b7d98f406c"
      },
      "execution_count": null,
      "outputs": [
        {
          "output_type": "execute_result",
          "data": {
            "text/plain": [
              "   Nama reviewer  Rating      Tanggal ulasan  \\\n",
              "0    Wine Amanda       4 2022-06-16 03:08:12   \n",
              "1  A Google user       3 2020-04-21 12:37:10   \n",
              "2     Joel David       2 2021-08-03 22:48:25   \n",
              "3          D. T.       1 2021-10-19 16:45:33   \n",
              "4  Haraz Anadiya       1 2021-09-09 16:23:46   \n",
              "\n",
              "                                              Ulasan  \n",
              "0  Its mandatory to use this app to scan the QR c...  \n",
              "1  The app stopped working multiple times and I c...  \n",
              "2  On my first review, I wrote that I can't sync....  \n",
              "3  We are supposed to use it the app when to go t...  \n",
              "4  Latest update makes the app unable to open. An...  "
            ],
            "text/html": [
              "\n",
              "  <div id=\"df-c4514acd-ba2e-4296-a085-12a4a9560cd4\">\n",
              "    <div class=\"colab-df-container\">\n",
              "      <div>\n",
              "<style scoped>\n",
              "    .dataframe tbody tr th:only-of-type {\n",
              "        vertical-align: middle;\n",
              "    }\n",
              "\n",
              "    .dataframe tbody tr th {\n",
              "        vertical-align: top;\n",
              "    }\n",
              "\n",
              "    .dataframe thead th {\n",
              "        text-align: right;\n",
              "    }\n",
              "</style>\n",
              "<table border=\"1\" class=\"dataframe\">\n",
              "  <thead>\n",
              "    <tr style=\"text-align: right;\">\n",
              "      <th></th>\n",
              "      <th>Nama reviewer</th>\n",
              "      <th>Rating</th>\n",
              "      <th>Tanggal ulasan</th>\n",
              "      <th>Ulasan</th>\n",
              "    </tr>\n",
              "  </thead>\n",
              "  <tbody>\n",
              "    <tr>\n",
              "      <th>0</th>\n",
              "      <td>Wine Amanda</td>\n",
              "      <td>4</td>\n",
              "      <td>2022-06-16 03:08:12</td>\n",
              "      <td>Its mandatory to use this app to scan the QR c...</td>\n",
              "    </tr>\n",
              "    <tr>\n",
              "      <th>1</th>\n",
              "      <td>A Google user</td>\n",
              "      <td>3</td>\n",
              "      <td>2020-04-21 12:37:10</td>\n",
              "      <td>The app stopped working multiple times and I c...</td>\n",
              "    </tr>\n",
              "    <tr>\n",
              "      <th>2</th>\n",
              "      <td>Joel David</td>\n",
              "      <td>2</td>\n",
              "      <td>2021-08-03 22:48:25</td>\n",
              "      <td>On my first review, I wrote that I can't sync....</td>\n",
              "    </tr>\n",
              "    <tr>\n",
              "      <th>3</th>\n",
              "      <td>D. T.</td>\n",
              "      <td>1</td>\n",
              "      <td>2021-10-19 16:45:33</td>\n",
              "      <td>We are supposed to use it the app when to go t...</td>\n",
              "    </tr>\n",
              "    <tr>\n",
              "      <th>4</th>\n",
              "      <td>Haraz Anadiya</td>\n",
              "      <td>1</td>\n",
              "      <td>2021-09-09 16:23:46</td>\n",
              "      <td>Latest update makes the app unable to open. An...</td>\n",
              "    </tr>\n",
              "  </tbody>\n",
              "</table>\n",
              "</div>\n",
              "      <button class=\"colab-df-convert\" onclick=\"convertToInteractive('df-c4514acd-ba2e-4296-a085-12a4a9560cd4')\"\n",
              "              title=\"Convert this dataframe to an interactive table.\"\n",
              "              style=\"display:none;\">\n",
              "        \n",
              "  <svg xmlns=\"http://www.w3.org/2000/svg\" height=\"24px\"viewBox=\"0 0 24 24\"\n",
              "       width=\"24px\">\n",
              "    <path d=\"M0 0h24v24H0V0z\" fill=\"none\"/>\n",
              "    <path d=\"M18.56 5.44l.94 2.06.94-2.06 2.06-.94-2.06-.94-.94-2.06-.94 2.06-2.06.94zm-11 1L8.5 8.5l.94-2.06 2.06-.94-2.06-.94L8.5 2.5l-.94 2.06-2.06.94zm10 10l.94 2.06.94-2.06 2.06-.94-2.06-.94-.94-2.06-.94 2.06-2.06.94z\"/><path d=\"M17.41 7.96l-1.37-1.37c-.4-.4-.92-.59-1.43-.59-.52 0-1.04.2-1.43.59L10.3 9.45l-7.72 7.72c-.78.78-.78 2.05 0 2.83L4 21.41c.39.39.9.59 1.41.59.51 0 1.02-.2 1.41-.59l7.78-7.78 2.81-2.81c.8-.78.8-2.07 0-2.86zM5.41 20L4 18.59l7.72-7.72 1.47 1.35L5.41 20z\"/>\n",
              "  </svg>\n",
              "      </button>\n",
              "      \n",
              "  <style>\n",
              "    .colab-df-container {\n",
              "      display:flex;\n",
              "      flex-wrap:wrap;\n",
              "      gap: 12px;\n",
              "    }\n",
              "\n",
              "    .colab-df-convert {\n",
              "      background-color: #E8F0FE;\n",
              "      border: none;\n",
              "      border-radius: 50%;\n",
              "      cursor: pointer;\n",
              "      display: none;\n",
              "      fill: #1967D2;\n",
              "      height: 32px;\n",
              "      padding: 0 0 0 0;\n",
              "      width: 32px;\n",
              "    }\n",
              "\n",
              "    .colab-df-convert:hover {\n",
              "      background-color: #E2EBFA;\n",
              "      box-shadow: 0px 1px 2px rgba(60, 64, 67, 0.3), 0px 1px 3px 1px rgba(60, 64, 67, 0.15);\n",
              "      fill: #174EA6;\n",
              "    }\n",
              "\n",
              "    [theme=dark] .colab-df-convert {\n",
              "      background-color: #3B4455;\n",
              "      fill: #D2E3FC;\n",
              "    }\n",
              "\n",
              "    [theme=dark] .colab-df-convert:hover {\n",
              "      background-color: #434B5C;\n",
              "      box-shadow: 0px 1px 3px 1px rgba(0, 0, 0, 0.15);\n",
              "      filter: drop-shadow(0px 1px 2px rgba(0, 0, 0, 0.3));\n",
              "      fill: #FFFFFF;\n",
              "    }\n",
              "  </style>\n",
              "\n",
              "      <script>\n",
              "        const buttonEl =\n",
              "          document.querySelector('#df-c4514acd-ba2e-4296-a085-12a4a9560cd4 button.colab-df-convert');\n",
              "        buttonEl.style.display =\n",
              "          google.colab.kernel.accessAllowed ? 'block' : 'none';\n",
              "\n",
              "        async function convertToInteractive(key) {\n",
              "          const element = document.querySelector('#df-c4514acd-ba2e-4296-a085-12a4a9560cd4');\n",
              "          const dataTable =\n",
              "            await google.colab.kernel.invokeFunction('convertToInteractive',\n",
              "                                                     [key], {});\n",
              "          if (!dataTable) return;\n",
              "\n",
              "          const docLinkHtml = 'Like what you see? Visit the ' +\n",
              "            '<a target=\"_blank\" href=https://colab.research.google.com/notebooks/data_table.ipynb>data table notebook</a>'\n",
              "            + ' to learn more about interactive tables.';\n",
              "          element.innerHTML = '';\n",
              "          dataTable['output_type'] = 'display_data';\n",
              "          await google.colab.output.renderOutput(dataTable, element);\n",
              "          const docLink = document.createElement('div');\n",
              "          docLink.innerHTML = docLinkHtml;\n",
              "          element.appendChild(docLink);\n",
              "        }\n",
              "      </script>\n",
              "    </div>\n",
              "  </div>\n",
              "  "
            ]
          },
          "metadata": {},
          "execution_count": 6
        }
      ]
    },
    {
      "cell_type": "markdown",
      "source": [
        "### Memfilter data berdasarkan tanggal ulasan dibuat"
      ],
      "metadata": {
        "id": "y8A3ApuYm3cu"
      }
    },
    {
      "cell_type": "code",
      "source": [
        "data_review = my_df[(my_df[\"Tanggal ulasan\"] >= '2021-12-16') & (my_df[\"Tanggal ulasan\"] <= '2022-04-16')]\n",
        "data_review = data_review.reset_index()\n",
        "data_review = data_review.drop('index', axis=1)\n",
        "data_review.head()"
      ],
      "metadata": {
        "colab": {
          "base_uri": "https://localhost:8080/",
          "height": 206
        },
        "id": "Afjtyfo8Nljh",
        "outputId": "464e02e9-ecd1-45f9-cd1c-db9cc12cc9ad"
      },
      "execution_count": null,
      "outputs": [
        {
          "output_type": "execute_result",
          "data": {
            "text/plain": [
              "       Nama reviewer  Rating      Tanggal ulasan  \\\n",
              "0     edyh widiyanto       1 2021-12-26 11:27:32   \n",
              "1  Fathur Firmansyah       4 2021-12-20 15:04:25   \n",
              "2          Edward JP       3 2022-02-26 09:42:38   \n",
              "3        Maria Mauri       1 2022-03-17 06:01:42   \n",
              "4   AlwaysOn Forever       2 2022-01-13 06:53:17   \n",
              "\n",
              "                                              Ulasan  \n",
              "0  It's a bold move to make this app mandatory wh...  \n",
              "1  We all know the devs won't ever give us the op...  \n",
              "2  i was tested positive for covid. yet the app k...  \n",
              "3  It is impossible for foreigners to use this ap...  \n",
              "4  Great idea to make an app like this and make t...  "
            ],
            "text/html": [
              "\n",
              "  <div id=\"df-7e7b1ddf-b28b-4c93-adcc-3985287e39ff\">\n",
              "    <div class=\"colab-df-container\">\n",
              "      <div>\n",
              "<style scoped>\n",
              "    .dataframe tbody tr th:only-of-type {\n",
              "        vertical-align: middle;\n",
              "    }\n",
              "\n",
              "    .dataframe tbody tr th {\n",
              "        vertical-align: top;\n",
              "    }\n",
              "\n",
              "    .dataframe thead th {\n",
              "        text-align: right;\n",
              "    }\n",
              "</style>\n",
              "<table border=\"1\" class=\"dataframe\">\n",
              "  <thead>\n",
              "    <tr style=\"text-align: right;\">\n",
              "      <th></th>\n",
              "      <th>Nama reviewer</th>\n",
              "      <th>Rating</th>\n",
              "      <th>Tanggal ulasan</th>\n",
              "      <th>Ulasan</th>\n",
              "    </tr>\n",
              "  </thead>\n",
              "  <tbody>\n",
              "    <tr>\n",
              "      <th>0</th>\n",
              "      <td>edyh widiyanto</td>\n",
              "      <td>1</td>\n",
              "      <td>2021-12-26 11:27:32</td>\n",
              "      <td>It's a bold move to make this app mandatory wh...</td>\n",
              "    </tr>\n",
              "    <tr>\n",
              "      <th>1</th>\n",
              "      <td>Fathur Firmansyah</td>\n",
              "      <td>4</td>\n",
              "      <td>2021-12-20 15:04:25</td>\n",
              "      <td>We all know the devs won't ever give us the op...</td>\n",
              "    </tr>\n",
              "    <tr>\n",
              "      <th>2</th>\n",
              "      <td>Edward JP</td>\n",
              "      <td>3</td>\n",
              "      <td>2022-02-26 09:42:38</td>\n",
              "      <td>i was tested positive for covid. yet the app k...</td>\n",
              "    </tr>\n",
              "    <tr>\n",
              "      <th>3</th>\n",
              "      <td>Maria Mauri</td>\n",
              "      <td>1</td>\n",
              "      <td>2022-03-17 06:01:42</td>\n",
              "      <td>It is impossible for foreigners to use this ap...</td>\n",
              "    </tr>\n",
              "    <tr>\n",
              "      <th>4</th>\n",
              "      <td>AlwaysOn Forever</td>\n",
              "      <td>2</td>\n",
              "      <td>2022-01-13 06:53:17</td>\n",
              "      <td>Great idea to make an app like this and make t...</td>\n",
              "    </tr>\n",
              "  </tbody>\n",
              "</table>\n",
              "</div>\n",
              "      <button class=\"colab-df-convert\" onclick=\"convertToInteractive('df-7e7b1ddf-b28b-4c93-adcc-3985287e39ff')\"\n",
              "              title=\"Convert this dataframe to an interactive table.\"\n",
              "              style=\"display:none;\">\n",
              "        \n",
              "  <svg xmlns=\"http://www.w3.org/2000/svg\" height=\"24px\"viewBox=\"0 0 24 24\"\n",
              "       width=\"24px\">\n",
              "    <path d=\"M0 0h24v24H0V0z\" fill=\"none\"/>\n",
              "    <path d=\"M18.56 5.44l.94 2.06.94-2.06 2.06-.94-2.06-.94-.94-2.06-.94 2.06-2.06.94zm-11 1L8.5 8.5l.94-2.06 2.06-.94-2.06-.94L8.5 2.5l-.94 2.06-2.06.94zm10 10l.94 2.06.94-2.06 2.06-.94-2.06-.94-.94-2.06-.94 2.06-2.06.94z\"/><path d=\"M17.41 7.96l-1.37-1.37c-.4-.4-.92-.59-1.43-.59-.52 0-1.04.2-1.43.59L10.3 9.45l-7.72 7.72c-.78.78-.78 2.05 0 2.83L4 21.41c.39.39.9.59 1.41.59.51 0 1.02-.2 1.41-.59l7.78-7.78 2.81-2.81c.8-.78.8-2.07 0-2.86zM5.41 20L4 18.59l7.72-7.72 1.47 1.35L5.41 20z\"/>\n",
              "  </svg>\n",
              "      </button>\n",
              "      \n",
              "  <style>\n",
              "    .colab-df-container {\n",
              "      display:flex;\n",
              "      flex-wrap:wrap;\n",
              "      gap: 12px;\n",
              "    }\n",
              "\n",
              "    .colab-df-convert {\n",
              "      background-color: #E8F0FE;\n",
              "      border: none;\n",
              "      border-radius: 50%;\n",
              "      cursor: pointer;\n",
              "      display: none;\n",
              "      fill: #1967D2;\n",
              "      height: 32px;\n",
              "      padding: 0 0 0 0;\n",
              "      width: 32px;\n",
              "    }\n",
              "\n",
              "    .colab-df-convert:hover {\n",
              "      background-color: #E2EBFA;\n",
              "      box-shadow: 0px 1px 2px rgba(60, 64, 67, 0.3), 0px 1px 3px 1px rgba(60, 64, 67, 0.15);\n",
              "      fill: #174EA6;\n",
              "    }\n",
              "\n",
              "    [theme=dark] .colab-df-convert {\n",
              "      background-color: #3B4455;\n",
              "      fill: #D2E3FC;\n",
              "    }\n",
              "\n",
              "    [theme=dark] .colab-df-convert:hover {\n",
              "      background-color: #434B5C;\n",
              "      box-shadow: 0px 1px 3px 1px rgba(0, 0, 0, 0.15);\n",
              "      filter: drop-shadow(0px 1px 2px rgba(0, 0, 0, 0.3));\n",
              "      fill: #FFFFFF;\n",
              "    }\n",
              "  </style>\n",
              "\n",
              "      <script>\n",
              "        const buttonEl =\n",
              "          document.querySelector('#df-7e7b1ddf-b28b-4c93-adcc-3985287e39ff button.colab-df-convert');\n",
              "        buttonEl.style.display =\n",
              "          google.colab.kernel.accessAllowed ? 'block' : 'none';\n",
              "\n",
              "        async function convertToInteractive(key) {\n",
              "          const element = document.querySelector('#df-7e7b1ddf-b28b-4c93-adcc-3985287e39ff');\n",
              "          const dataTable =\n",
              "            await google.colab.kernel.invokeFunction('convertToInteractive',\n",
              "                                                     [key], {});\n",
              "          if (!dataTable) return;\n",
              "\n",
              "          const docLinkHtml = 'Like what you see? Visit the ' +\n",
              "            '<a target=\"_blank\" href=https://colab.research.google.com/notebooks/data_table.ipynb>data table notebook</a>'\n",
              "            + ' to learn more about interactive tables.';\n",
              "          element.innerHTML = '';\n",
              "          dataTable['output_type'] = 'display_data';\n",
              "          await google.colab.output.renderOutput(dataTable, element);\n",
              "          const docLink = document.createElement('div');\n",
              "          docLink.innerHTML = docLinkHtml;\n",
              "          element.appendChild(docLink);\n",
              "        }\n",
              "      </script>\n",
              "    </div>\n",
              "  </div>\n",
              "  "
            ]
          },
          "metadata": {},
          "execution_count": 13
        }
      ]
    },
    {
      "cell_type": "markdown",
      "source": [
        "### Menampilkan jumlah data ulasan"
      ],
      "metadata": {
        "id": "bZLN3xYxoC4J"
      }
    },
    {
      "cell_type": "code",
      "source": [
        "len(data_review)"
      ],
      "metadata": {
        "colab": {
          "base_uri": "https://localhost:8080/"
        },
        "id": "-ACJgZqzS77z",
        "outputId": "37f0cd6d-000e-4f28-9690-97224106838e"
      },
      "execution_count": null,
      "outputs": [
        {
          "output_type": "execute_result",
          "data": {
            "text/plain": [
              "9257"
            ]
          },
          "metadata": {},
          "execution_count": 14
        }
      ]
    },
    {
      "cell_type": "markdown",
      "source": [
        "### Menyimpan data dalam bentuk *csv* dan *excel*"
      ],
      "metadata": {
        "id": "5dM4_xA_oVd7"
      }
    },
    {
      "cell_type": "code",
      "source": [
        "data_review.to_csv('Scrapped_data.csv', index = False)\n",
        "data_review.to_excel('Scrapped_data.xlsx', index = False)"
      ],
      "metadata": {
        "id": "9Kg-9lsG7q7O"
      },
      "execution_count": null,
      "outputs": []
    },
    {
      "cell_type": "code",
      "source": [],
      "metadata": {
        "id": "ZBvAuOahobj0"
      },
      "execution_count": null,
      "outputs": []
    }
  ]
}